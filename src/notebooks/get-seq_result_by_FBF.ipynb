{
 "cells": [
  {
   "cell_type": "code",
   "execution_count": 5,
   "metadata": {},
   "outputs": [],
   "source": [
    "import pandas as pd\n",
    "from utils import util"
   ]
  },
  {
   "cell_type": "code",
   "execution_count": 6,
   "metadata": {},
   "outputs": [],
   "source": [
    "def get_seq_pred_by_FBF(seq_label_dir, window_size, fbf_pred_dir):\n",
    "    \n",
    "    seq_label_df = pd.read_csv(seq_label_dir)\n",
    "    fbf_pred_df = pd.read_csv(fbf_pred_dir)\n",
    "    seq_res_by_fbf = pd.DataFrame(columns=['img_path', 'emo_gt', 'emo_pred', 'ave_emo_pos'])\n",
    "    \n",
    "    for i, row in enumerate(seq_label_df.itertuples()):\n",
    "        img_path = row.img_path\n",
    "        emo_gt = row.emotion\n",
    "        img_path_list = util.get_sequence_img_path(current_img_path=img_path, window_size=window_size, current_position='head')\n",
    "        \n",
    "        # extract fbf_pred_df by img_path_list\n",
    "        _fbf_pred_df = fbf_pred_df[fbf_pred_df['img_path'].isin(img_path_list)]\n",
    "        if len(_fbf_pred_df) == 0:\n",
    "            # ave_emo_pos = 0\n",
    "            continue\n",
    "        else:\n",
    "            ave_emo_pos = _fbf_pred_df['emo_pos'].mean()\n",
    "            \n",
    "        emo_pred = 0\n",
    "        if ave_emo_pos >= 0.5:\n",
    "            emo_pred = 1\n",
    "        \n",
    "        seq_res_by_fbf.loc[i] = [img_path, emo_gt, emo_pred, ave_emo_pos]\n",
    "        \n",
    "    seq_res_by_fbf = seq_res_by_fbf.reset_index(drop=True)\n",
    "    \n",
    "    return seq_res_by_fbf\n",
    "        "
   ]
  },
  {
   "cell_type": "code",
   "execution_count": 7,
   "metadata": {},
   "outputs": [],
   "source": [
    "from sklearn.metrics import precision_score, recall_score, f1_score, accuracy_score, roc_auc_score, precision_recall_curve, auc\n",
    "\n",
    "def get_metrics_from_pred_df(pred_df, target_emo):\n",
    "    gt_list = []\n",
    "    if target_emo == \"comfort\":\n",
    "        # copy pred[\"emo_gt\"] to gt_list\n",
    "        gt_list = pred_df[\"emo_gt\"].copy()\n",
    "        # replace 2 to 0\n",
    "        gt_list = gt_list.replace(2, 0)\n",
    "    elif target_emo == \"discomfort\":\n",
    "        # copy pred[\"emo_gt\"] to gt_list\n",
    "        gt_list = pred_df[\"emo_gt\"].copy()\n",
    "        # replace 1 to 0\n",
    "        gt_list = gt_list.replace(1, 0)\n",
    "        # replace 2 to 1\n",
    "        gt_list = gt_list.replace(2, 1)\n",
    "        \n",
    "    # culc metrics gt_list and pred[\"emo_pred\"]\n",
    "    acc = accuracy_score(gt_list, pred_df[\"emo_pred\"])\n",
    "    precision = precision_score(gt_list, pred_df[\"emo_pred\"])\n",
    "    recall = recall_score(gt_list, pred_df[\"emo_pred\"])\n",
    "    f1 = f1_score(gt_list, pred_df[\"emo_pred\"])\n",
    "    roc_auc = roc_auc_score(gt_list, pred_df[\"emo_pred\"])\n",
    "    pre, rec, _ = precision_recall_curve(gt_list, pred_df[\"emo_pred\"])\n",
    "    pr_auc = auc(rec, pre)\n",
    "    \n",
    "    metrics = pd.DataFrame([precision, recall, f1, acc, roc_auc, pr_auc]).T\n",
    "    metrics.columns = [\"precision\", \"recall\", \"f1\", \"accuracy\", \"roc_auc\", \"pr_auc\"]\n",
    "    \n",
    "    return metrics"
   ]
  },
  {
   "cell_type": "code",
   "execution_count": 18,
   "metadata": {},
   "outputs": [],
   "source": [
    "target_emo = \"discomfort\"\n",
    "run_name = \"2_d_g_ylogits\"\n",
    "epoch = 3\n",
    "\n",
    "seq_label_dir = \"/mnt/iot-qnap3/mochida/medical-care/emotionestimation/data/labels/PIMD_A/discomfort_nomixed_seq_labels_wsize30-ssize5.csv\"\n",
    "fbf_pred_dir = f\"/mnt/iot-qnap3/mochida/medical-care/emotionestimation/reports/PIMD_A/{run_name}/epoch{epoch}/{target_emo}_pred_all.csv\"\n",
    "\n",
    "df = get_seq_pred_by_FBF(seq_label_dir, window_size=30, fbf_pred_dir=fbf_pred_dir)"
   ]
  },
  {
   "cell_type": "code",
   "execution_count": 19,
   "metadata": {},
   "outputs": [],
   "source": [
    "met = get_metrics_from_pred_df(df, target_emo=\"discomfort\")"
   ]
  },
  {
   "cell_type": "code",
   "execution_count": 20,
   "metadata": {},
   "outputs": [
    {
     "data": {
      "text/html": [
       "<div>\n",
       "<style scoped>\n",
       "    .dataframe tbody tr th:only-of-type {\n",
       "        vertical-align: middle;\n",
       "    }\n",
       "\n",
       "    .dataframe tbody tr th {\n",
       "        vertical-align: top;\n",
       "    }\n",
       "\n",
       "    .dataframe thead th {\n",
       "        text-align: right;\n",
       "    }\n",
       "</style>\n",
       "<table border=\"1\" class=\"dataframe\">\n",
       "  <thead>\n",
       "    <tr style=\"text-align: right;\">\n",
       "      <th></th>\n",
       "      <th>precision</th>\n",
       "      <th>recall</th>\n",
       "      <th>f1</th>\n",
       "      <th>accuracy</th>\n",
       "      <th>roc_auc</th>\n",
       "      <th>pr_auc</th>\n",
       "    </tr>\n",
       "  </thead>\n",
       "  <tbody>\n",
       "    <tr>\n",
       "      <th>0</th>\n",
       "      <td>0.5625</td>\n",
       "      <td>0.1843</td>\n",
       "      <td>0.277635</td>\n",
       "      <td>0.508741</td>\n",
       "      <td>0.516881</td>\n",
       "      <td>0.582316</td>\n",
       "    </tr>\n",
       "  </tbody>\n",
       "</table>\n",
       "</div>"
      ],
      "text/plain": [
       "   precision  recall        f1  accuracy   roc_auc    pr_auc\n",
       "0     0.5625  0.1843  0.277635  0.508741  0.516881  0.582316"
      ]
     },
     "execution_count": 20,
     "metadata": {},
     "output_type": "execute_result"
    }
   ],
   "source": [
    "met"
   ]
  },
  {
   "cell_type": "code",
   "execution_count": 21,
   "metadata": {},
   "outputs": [],
   "source": [
    "#! ファイル名の変更を忘れずに\n",
    "df.to_csv(f\"/mnt/iot-qnap3/mochida/medical-care/emotionestimation/reports/PIMD_A/{run_name}/epoch{epoch}/{target_emo}_seq_pred_by_fbf.csv\", index=False)\n",
    "met.to_csv(f\"/mnt/iot-qnap3/mochida/medical-care/emotionestimation/reports/PIMD_A/{run_name}/epoch{epoch}/{target_emo}_seq_pred_by_fbf_metrics(micro_ave).csv\", index=False)"
   ]
  }
 ],
 "metadata": {
  "kernelspec": {
   "display_name": "base",
   "language": "python",
   "name": "python3"
  },
  "language_info": {
   "codemirror_mode": {
    "name": "ipython",
    "version": 3
   },
   "file_extension": ".py",
   "mimetype": "text/x-python",
   "name": "python",
   "nbconvert_exporter": "python",
   "pygments_lexer": "ipython3",
   "version": "3.10.9"
  },
  "orig_nbformat": 4
 },
 "nbformat": 4,
 "nbformat_minor": 2
}
